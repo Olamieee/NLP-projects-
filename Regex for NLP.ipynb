{
 "cells": [
  {
   "cell_type": "markdown",
   "metadata": {},
   "source": [
    "<h1>Regex Expressions</h1>"
   ]
  },
  {
   "cell_type": "markdown",
   "metadata": {},
   "source": [
    "<h3>(1) Regex in customer support</h3>"
   ]
  },
  {
   "cell_type": "code",
   "execution_count": 81,
   "metadata": {},
   "outputs": [],
   "source": [
    "import re\n"
   ]
  },
  {
   "cell_type": "code",
   "execution_count": 82,
   "metadata": {},
   "outputs": [],
   "source": [
    "text1 = 'Hi, My email is alongeola16@gmail.com, My phone is 09025055838'\n",
    "text2 = 'There is a complain for my order ID 99487636628'"
   ]
  },
  {
   "cell_type": "code",
   "execution_count": 83,
   "metadata": {},
   "outputs": [
    {
     "data": {
      "text/plain": [
       "['alongeola16@gmail.com']"
      ]
     },
     "execution_count": 83,
     "metadata": {},
     "output_type": "execute_result"
    }
   ],
   "source": [
    "com = '\\d{11}'\n",
    "co = '[a-zA-Z0-9]*@[a-z0-9A-Z]*.[a-zA-Z]*'\n",
    "re.findall(co,text1)\n"
   ]
  },
  {
   "cell_type": "code",
   "execution_count": 84,
   "metadata": {},
   "outputs": [
    {
     "data": {
      "text/plain": [
       "['99487636628']"
      ]
     },
     "execution_count": 84,
     "metadata": {},
     "output_type": "execute_result"
    }
   ],
   "source": [
    "pattern = 'order[^\\d]*(\\d*)'\n",
    "ma = re.findall(pattern,text2)\n",
    "ma"
   ]
  },
  {
   "cell_type": "markdown",
   "metadata": {},
   "source": [
    "<h3>(2) Regex for information extraction</h3>"
   ]
  },
  {
   "cell_type": "markdown",
   "metadata": {},
   "source": [
    "**Extracting information of Elon Musk from the text below which contains data about Elon Musk from Google Search.**"
   ]
  },
  {
   "cell_type": "code",
   "execution_count": 85,
   "metadata": {},
   "outputs": [],
   "source": [
    "text=''' Born \t \n",
    "Elon Reeve Musk\n",
    "June 28, 1971 (age 50)\n",
    "Pretoria, Transvaal, South Africa\n",
    "Citizenship\t\n",
    "South Africa (1971–present)\n",
    "Canada (1971–present)\n",
    "United States (2002–present)\n",
    "Education\tUniversity of Pennsylvania (BS, BA)\n",
    "Title\t\n",
    "Founder, CEO and Chief Engineer of SpaceX\n",
    "CEO and product architect of Tesla, Inc.\n",
    "Founder of The Boring Company and X.com (now part of PayPal)\n",
    "Co-founder of Neuralink, OpenAI, and Zip2\n",
    "Spouse(s)\t\n",
    "Justine Wilson\n",
    "​\n",
    "​(m. 2000; div. 2008)​\n",
    "Talulah Riley\n",
    "​\n",
    "​(m. 2010; div. 2012)​\n",
    "​\n",
    "​(m. 2013; div. 2016)\n",
    "'''"
   ]
  },
  {
   "cell_type": "code",
   "execution_count": 86,
   "metadata": {},
   "outputs": [
    {
     "data": {
      "text/plain": [
       "[('South Africa (1971–present)', 'Canada (1971–present)')]"
      ]
     },
     "execution_count": 86,
     "metadata": {},
     "output_type": "execute_result"
    }
   ],
   "source": [
    "citizenship = 'Citizenship.*\\n(.*)\\n(.*)'.strip()\n",
    "m = re.findall(citizenship, text)\n",
    "m"
   ]
  },
  {
   "cell_type": "code",
   "execution_count": 87,
   "metadata": {},
   "outputs": [
    {
     "data": {
      "text/plain": [
       "['Elon Reeve Musk']"
      ]
     },
     "execution_count": 87,
     "metadata": {},
     "output_type": "execute_result"
    }
   ],
   "source": [
    "pat = 'Born.*\\n(.*)'\n",
    "mat = re.findall(pat,text)\n",
    "mat\n"
   ]
  },
  {
   "cell_type": "code",
   "execution_count": 88,
   "metadata": {},
   "outputs": [
    {
     "data": {
      "text/plain": [
       "['50']"
      ]
     },
     "execution_count": 88,
     "metadata": {},
     "output_type": "execute_result"
    }
   ],
   "source": [
    "age = 'age (\\d+)'\n",
    "agee = re.findall(age, text)\n",
    "agee"
   ]
  },
  {
   "cell_type": "code",
   "execution_count": 89,
   "metadata": {},
   "outputs": [
    {
     "ename": "IndexError",
     "evalue": "list index out of range",
     "output_type": "error",
     "traceback": [
      "\u001b[1;31m---------------------------------------------------------------------------\u001b[0m",
      "\u001b[1;31mIndexError\u001b[0m                                Traceback (most recent call last)",
      "\u001b[1;32mc:\\Users\\Ola\\Desktop\\code files\\NLP\\Regex for NLP.ipynb Cell 13\u001b[0m in \u001b[0;36m<cell line: 3>\u001b[1;34m()\u001b[0m\n\u001b[0;32m      <a href='vscode-notebook-cell:/c%3A/Users/Ola/Desktop/code%20files/NLP/Regex%20for%20NLP.ipynb#X11sZmlsZQ%3D%3D?line=0'>1</a>\u001b[0m birth \u001b[39m=\u001b[39m \u001b[39m'\u001b[39m\u001b[39mBorn.*\u001b[39m\u001b[39m\\n\u001b[39;00m\u001b[39m(.*)\u001b[39m\u001b[39m\\\u001b[39m\u001b[39m(age\u001b[39m\u001b[39m'\u001b[39m\n\u001b[0;32m      <a href='vscode-notebook-cell:/c%3A/Users/Ola/Desktop/code%20files/NLP/Regex%20for%20NLP.ipynb#X11sZmlsZQ%3D%3D?line=1'>2</a>\u001b[0m matc \u001b[39m=\u001b[39m re\u001b[39m.\u001b[39mfindall(birth, text)\n\u001b[1;32m----> <a href='vscode-notebook-cell:/c%3A/Users/Ola/Desktop/code%20files/NLP/Regex%20for%20NLP.ipynb#X11sZmlsZQ%3D%3D?line=2'>3</a>\u001b[0m matc[\u001b[39m0\u001b[39;49m]\n",
      "\u001b[1;31mIndexError\u001b[0m: list index out of range"
     ]
    }
   ],
   "source": [
    "birth = 'Born.*\\n(.*)\\(age'\n",
    "matc = re.findall(birth, text)\n",
    "matc[0]\n"
   ]
  },
  {
   "cell_type": "code",
   "execution_count": null,
   "metadata": {},
   "outputs": [],
   "source": [
    "def get_pattern_match(pattern,text):\n",
    "    matches = re.findall(pattern, text)\n",
    "    if matches:\n",
    "        return matches[0]\n"
   ]
  },
  {
   "cell_type": "code",
   "execution_count": null,
   "metadata": {},
   "outputs": [],
   "source": [
    "def get_info(text):\n",
    "    name = get_pattern_match('Born.*\\n(.*)', text)\n",
    "    ageee = get_pattern_match('age (\\d+)', text)\n",
    "    bday = get_pattern_match('Born.*\\n(.*)\\(age', text)\n",
    "    birth_place = get_pattern_match('\\(age.*\\n(.*)', text)\n",
    "    citizenship = get_pattern_match('Citizenship.*\\n(.*)\\n(.*)', text)\n",
    "\n",
    "    return {\n",
    "        'Name' : name,\n",
    "        'age' : int(ageee),\n",
    "        'bday' : bday,\n",
    "        'birth_place' : birth_place,\n",
    "        'citizenship' : citizenship\n",
    "    } "
   ]
  },
  {
   "cell_type": "code",
   "execution_count": null,
   "metadata": {},
   "outputs": [
    {
     "data": {
      "text/plain": [
       "{'Name': 'Elon Reeve Musk',\n",
       " 'age': 50,\n",
       " 'bday': None,\n",
       " 'birth_place': 'Pretoria, Transvaal, South Africa',\n",
       " 'citizenship': ('South Africa (1971–present)', 'Canada (1971–present)')}"
      ]
     },
     "execution_count": 79,
     "metadata": {},
     "output_type": "execute_result"
    }
   ],
   "source": [
    "get_info(text)"
   ]
  },
  {
   "cell_type": "code",
   "execution_count": null,
   "metadata": {},
   "outputs": [],
   "source": [
    "\n",
    "github='''\n",
    "Founded February 8, 2008 (as Logical Awesome LLC)\n",
    "Headquarters    San Francisco, California, U.S.\n",
    "Founders  Tom Preston-Werner · Chris Wanstrath · P. J. Hyett · Scott Chacon\n",
    "Key people  Mike Taylor (CFO) · Erica Brescia (COO)\n",
    "Parent Microsoft\n",
    "Launched April 10, 2008\n",
    "Type of business Subsidiary\n",
    "Type of site Collaborative version control'''\n",
    "\n"
   ]
  },
  {
   "cell_type": "code",
   "execution_count": null,
   "metadata": {},
   "outputs": [
    {
     "data": {
      "text/plain": [
       "['  May 27, 1979  ']"
      ]
     },
     "execution_count": 71,
     "metadata": {},
     "output_type": "execute_result"
    }
   ],
   "source": [
    "pa = 'Born(.*)'\n",
    "matches = re.findall(pa, thomas)\n",
    "matches"
   ]
  },
  {
   "cell_type": "markdown",
   "metadata": {},
   "source": [
    "*Extracting information about the of github which contains the founder names, the date it was founded, Headquarters,\n",
    "launched date, parent and type of business.*"
   ]
  },
  {
   "cell_type": "code",
   "execution_count": null,
   "metadata": {},
   "outputs": [
    {
     "data": {
      "text/plain": [
       "['    San Francisco, California, U.S.']"
      ]
     },
     "execution_count": 72,
     "metadata": {},
     "output_type": "execute_result"
    }
   ],
   "source": [
    "founders_name = 'Headquarters(.*)'.strip()\n",
    "finde = re.findall(founders_name, github)\n",
    "finde"
   ]
  },
  {
   "cell_type": "code",
   "execution_count": null,
   "metadata": {},
   "outputs": [],
   "source": [
    "def patterns(words, github):\n",
    "    result = re.findall(words, github)\n",
    "\n",
    "    if result:\n",
    "        return result[0]\n",
    "    "
   ]
  },
  {
   "cell_type": "code",
   "execution_count": null,
   "metadata": {},
   "outputs": [],
   "source": [
    "def get_results(texts):\n",
    "    founders_name = patterns('Founders(.*)', github)\n",
    "    date_founded = patterns('Founded(.*)\\(as', github)\n",
    "    hq = patterns('Headquarters(.*)', github)\n",
    "    launched_date = patterns('Launched(.*)', github)\n",
    "    parent = patterns('Parent(.*)', github)\n",
    "    type_of_business = patterns('Type of business(.*)', github)\n",
    "\n",
    "    return {\n",
    "        'Founders' : founders_name,\n",
    "        'Date Founded' : date_founded,\n",
    "        'Headquarters' : hq,\n",
    "        'Launched Date' : launched_date,\n",
    "        'Parent' : parent,\n",
    "        \"Business Type\" : type_of_business\n",
    "    }\n"
   ]
  },
  {
   "cell_type": "code",
   "execution_count": null,
   "metadata": {},
   "outputs": [
    {
     "data": {
      "text/plain": [
       "{'Founders': '  Tom Preston-Werner · Chris Wanstrath · P. J. Hyett · Scott Chacon',\n",
       " 'Date Founded': ' February 8, 2008 ',\n",
       " 'Headquarters': '    San Francisco, California, U.S.',\n",
       " 'Launched Date': ' April 10, 2008',\n",
       " 'Parent': ' Microsoft',\n",
       " 'Business Type': ' Subsidiary'}"
      ]
     },
     "execution_count": 75,
     "metadata": {},
     "output_type": "execute_result"
    }
   ],
   "source": [
    "get_results(github)"
   ]
  }
 ],
 "metadata": {
  "kernelspec": {
   "display_name": "Python 3.10.2 64-bit",
   "language": "python",
   "name": "python3"
  },
  "language_info": {
   "codemirror_mode": {
    "name": "ipython",
    "version": 3
   },
   "file_extension": ".py",
   "mimetype": "text/x-python",
   "name": "python",
   "nbconvert_exporter": "python",
   "pygments_lexer": "ipython3",
   "version": "3.10.2"
  },
  "orig_nbformat": 4,
  "vscode": {
   "interpreter": {
    "hash": "2a20c2438da76d01abbbd80122561b502df63077b005b417cc5df835b7dbcba8"
   }
  }
 },
 "nbformat": 4,
 "nbformat_minor": 2
}
