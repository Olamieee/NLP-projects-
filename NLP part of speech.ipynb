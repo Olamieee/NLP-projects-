{
 "cells": [
  {
   "cell_type": "code",
   "execution_count": 25,
   "metadata": {},
   "outputs": [],
   "source": [
    "import spacy\n",
    "\n",
    "nlp = spacy.load(\"en_core_web_sm\")"
   ]
  },
  {
   "cell_type": "markdown",
   "metadata": {},
   "source": [
    "<h4>POS in spacy<h4>"
   ]
  },
  {
   "cell_type": "code",
   "execution_count": 26,
   "metadata": {},
   "outputs": [
    {
     "name": "stdout",
     "output_type": "stream",
     "text": [
      "My  |  PRON  |  pronoun\n",
      "name  |  NOUN  |  noun\n",
      "is  |  AUX  |  auxiliary\n",
      "Olamide  |  PROPN  |  proper noun\n",
      "and  |  CCONJ  |  coordinating conjunction\n",
      "i  |  PRON  |  pronoun\n",
      "am  |  AUX  |  auxiliary\n",
      "a  |  DET  |  determiner\n",
      "student  |  NOUN  |  noun\n",
      "of  |  ADP  |  adposition\n",
      "computer  |  NOUN  |  noun\n",
      "sciece  |  NOUN  |  noun\n",
      "in  |  ADP  |  adposition\n",
      "FUOYE  |  PROPN  |  proper noun\n",
      ",  |  PUNCT  |  punctuation\n",
      "i  |  PRON  |  pronoun\n",
      "am  |  AUX  |  auxiliary\n",
      "also  |  ADV  |  adverb\n",
      "20  |  NUM  |  numeral\n",
      "years  |  NOUN  |  noun\n",
      "old  |  ADJ  |  adjective\n"
     ]
    }
   ],
   "source": [
    "doc = nlp(\"My name is Olamide and i am a student of computer sciece in FUOYE, i am also 20 years old\")\n",
    "\n",
    "for token in doc:\n",
    "    print(token, \" | \", token.pos_, \" | \", spacy.explain(token.pos_))"
   ]
  },
  {
   "cell_type": "code",
   "execution_count": 27,
   "metadata": {},
   "outputs": [
    {
     "name": "stdout",
     "output_type": "stream",
     "text": [
      "I  |  PRON  |  pronoun\n",
      "am  |  AUX  |  auxiliary\n",
      "twenty  |  NUM  |  numeral\n",
      ",  |  PUNCT  |  punctuation\n",
      "he  |  PRON  |  pronoun\n",
      "is  |  AUX  |  auxiliary\n",
      "16  |  NUM  |  numeral\n",
      "and  |  CCONJ  |  coordinating conjunction\n",
      "tommy  |  PROPN  |  proper noun\n",
      "is  |  AUX  |  auxiliary\n",
      "a  |  DET  |  determiner\n",
      "chocolate  |  NOUN  |  noun\n",
      "skin  |  NOUN  |  noun\n",
      "guy  |  NOUN  |  noun\n",
      "while  |  SCONJ  |  subordinating conjunction\n",
      "peace  |  NOUN  |  noun\n",
      "is  |  AUX  |  auxiliary\n",
      "a  |  DET  |  determiner\n",
      "dark  |  ADJ  |  adjective\n",
      "skinned  |  VERB  |  verb\n",
      "guy  |  NOUN  |  noun\n",
      "but  |  CCONJ  |  coordinating conjunction\n",
      "dolapo  |  ADJ  |  adjective\n",
      "lives  |  VERB  |  verb\n",
      "in  |  ADP  |  adposition\n",
      "ibadan  |  PROPN  |  proper noun\n"
     ]
    }
   ],
   "source": [
    "text = nlp(\"I am twenty, he is 16 and tommy is a chocolate skin guy while peace is a dark skinned guy but dolapo lives in ibadan\")\n",
    "\n",
    "for token in text:\n",
    "    print(token, \" | \", token.pos_, \" | \", spacy.explain(token.pos_))\n"
   ]
  },
  {
   "cell_type": "markdown",
   "metadata": {},
   "source": [
    "<h4>POS tags<h4>"
   ]
  },
  {
   "cell_type": "code",
   "execution_count": 28,
   "metadata": {},
   "outputs": [
    {
     "name": "stdout",
     "output_type": "stream",
     "text": [
      "My  |  PRON  |  pronoun  |  PRP$  |  pronoun, possessive\n",
      "name  |  NOUN  |  noun  |  NN  |  noun, singular or mass\n",
      "is  |  AUX  |  auxiliary  |  VBZ  |  verb, 3rd person singular present\n",
      "Olamide  |  PROPN  |  proper noun  |  NNP  |  noun, proper singular\n",
      "and  |  CCONJ  |  coordinating conjunction  |  CC  |  conjunction, coordinating\n",
      "i  |  PRON  |  pronoun  |  PRP  |  pronoun, personal\n",
      "am  |  AUX  |  auxiliary  |  VBP  |  verb, non-3rd person singular present\n",
      "a  |  DET  |  determiner  |  DT  |  determiner\n",
      "student  |  NOUN  |  noun  |  NN  |  noun, singular or mass\n",
      "of  |  ADP  |  adposition  |  IN  |  conjunction, subordinating or preposition\n",
      "computer  |  NOUN  |  noun  |  NN  |  noun, singular or mass\n",
      "sciece  |  NOUN  |  noun  |  NN  |  noun, singular or mass\n",
      "in  |  ADP  |  adposition  |  IN  |  conjunction, subordinating or preposition\n",
      "FUOYE  |  PROPN  |  proper noun  |  NNP  |  noun, proper singular\n",
      ",  |  PUNCT  |  punctuation  |  ,  |  punctuation mark, comma\n",
      "i  |  PRON  |  pronoun  |  PRP  |  pronoun, personal\n",
      "am  |  AUX  |  auxiliary  |  VBP  |  verb, non-3rd person singular present\n",
      "also  |  ADV  |  adverb  |  RB  |  adverb\n",
      "20  |  NUM  |  numeral  |  CD  |  cardinal number\n",
      "years  |  NOUN  |  noun  |  NNS  |  noun, plural\n",
      "old  |  ADJ  |  adjective  |  JJ  |  adjective (English), other noun-modifier (Chinese)\n"
     ]
    }
   ],
   "source": [
    "doc2 = nlp(\"My name is Olamide and i am a student of computer sciece in FUOYE, i am also 20 years old\")\n",
    "\n",
    "for token in doc2:\n",
    "    print(token, \" | \", token.pos_, \" | \", spacy.explain(token.pos_), \" | \", token.tag_, \" | \", spacy.explain(token.tag_))"
   ]
  },
  {
   "cell_type": "code",
   "execution_count": 29,
   "metadata": {},
   "outputs": [
    {
     "name": "stdout",
     "output_type": "stream",
     "text": [
      "I  |  PRON  |  pronoun  |  PRP  |  pronoun, personal\n",
      "am  |  AUX  |  auxiliary  |  VBP  |  verb, non-3rd person singular present\n",
      "twenty  |  NUM  |  numeral  |  CD  |  cardinal number\n",
      ",  |  PUNCT  |  punctuation  |  ,  |  punctuation mark, comma\n",
      "he  |  PRON  |  pronoun  |  PRP  |  pronoun, personal\n",
      "is  |  AUX  |  auxiliary  |  VBZ  |  verb, 3rd person singular present\n",
      "16  |  NUM  |  numeral  |  CD  |  cardinal number\n",
      "and  |  CCONJ  |  coordinating conjunction  |  CC  |  conjunction, coordinating\n",
      "tommy  |  PROPN  |  proper noun  |  NNP  |  noun, proper singular\n",
      "is  |  AUX  |  auxiliary  |  VBZ  |  verb, 3rd person singular present\n",
      "a  |  DET  |  determiner  |  DT  |  determiner\n",
      "chocolate  |  NOUN  |  noun  |  NN  |  noun, singular or mass\n",
      "skin  |  NOUN  |  noun  |  NN  |  noun, singular or mass\n",
      "guy  |  NOUN  |  noun  |  NN  |  noun, singular or mass\n",
      "while  |  SCONJ  |  subordinating conjunction  |  IN  |  conjunction, subordinating or preposition\n",
      "peace  |  NOUN  |  noun  |  NN  |  noun, singular or mass\n",
      "is  |  AUX  |  auxiliary  |  VBZ  |  verb, 3rd person singular present\n",
      "a  |  DET  |  determiner  |  DT  |  determiner\n",
      "dark  |  ADJ  |  adjective  |  JJ  |  adjective (English), other noun-modifier (Chinese)\n",
      "skinned  |  VERB  |  verb  |  VBN  |  verb, past participle\n",
      "guy  |  NOUN  |  noun  |  NN  |  noun, singular or mass\n",
      "but  |  CCONJ  |  coordinating conjunction  |  CC  |  conjunction, coordinating\n",
      "Dolapo  |  PROPN  |  proper noun  |  NNP  |  noun, proper singular\n",
      "lives  |  VERB  |  verb  |  VBZ  |  verb, 3rd person singular present\n",
      "in  |  ADP  |  adposition  |  IN  |  conjunction, subordinating or preposition\n",
      "ibadan  |  PROPN  |  proper noun  |  NNP  |  noun, proper singular\n"
     ]
    }
   ],
   "source": [
    "text2 = nlp(\"I am twenty, he is 16 and tommy is a chocolate skin guy while peace is a dark skinned guy but Dolapo lives in ibadan\")\n",
    "\n",
    "for token in text2:\n",
    "    print(token, \" | \", token.pos_, \" | \", spacy.explain(token.pos_), \" | \", token.tag_, \" | \", spacy.explain(token.tag_))\n"
   ]
  },
  {
   "cell_type": "markdown",
   "metadata": {},
   "source": [
    "Past tense vs Present tense"
   ]
  },
  {
   "cell_type": "code",
   "execution_count": 32,
   "metadata": {},
   "outputs": [
    {
     "name": "stdout",
     "output_type": "stream",
     "text": [
      "ate  |  VBD  |  verb, past tense\n"
     ]
    }
   ],
   "source": [
    "word = nlp(\"he ate the food\")\n",
    "word2 = nlp(\"I am eating the food\")\n",
    "word3 = nlp(\"I will eat the food\")\n",
    "\n",
    "print(word[1].text, \" | \" ,word[1].tag_,\" | \" ,spacy.explain(word[1].tag_))"
   ]
  },
  {
   "cell_type": "code",
   "execution_count": 35,
   "metadata": {},
   "outputs": [
    {
     "name": "stdout",
     "output_type": "stream",
     "text": [
      "eating  |  VBG  |  verb, gerund or present participle\n"
     ]
    }
   ],
   "source": [
    "print(word2[2], \" | \" ,word2[2].tag_,\" | \" ,spacy.explain(word2[2].tag_))"
   ]
  },
  {
   "cell_type": "code",
   "execution_count": 34,
   "metadata": {},
   "outputs": [
    {
     "name": "stdout",
     "output_type": "stream",
     "text": [
      "eat  |  VB  |  verb, base form\n"
     ]
    }
   ],
   "source": [
    "print(word3[2],  \" | \" ,word3[2].tag_,\" | \" ,spacy.explain(word3[2].tag_))"
   ]
  },
  {
   "cell_type": "markdown",
   "metadata": {},
   "source": [
    "<h3>Removing all SPACE, PUNCT and X token from text</h3>"
   ]
  },
  {
   "cell_type": "code",
   "execution_count": 38,
   "metadata": {},
   "outputs": [
    {
     "name": "stdout",
     "output_type": "stream",
     "text": [
      "Microsoft  |  PROPN  |  proper noun  |  NNP  |  noun, proper singular\n",
      "Corp.  |  PROPN  |  proper noun  |  NNP  |  noun, proper singular\n",
      "today  |  NOUN  |  noun  |  NN  |  noun, singular or mass\n",
      "announced  |  VERB  |  verb  |  VBD  |  verb, past tense\n",
      "the  |  DET  |  determiner  |  DT  |  determiner\n",
      "following  |  VERB  |  verb  |  VBG  |  verb, gerund or present participle\n",
      "results  |  NOUN  |  noun  |  NNS  |  noun, plural\n",
      "for  |  ADP  |  adposition  |  IN  |  conjunction, subordinating or preposition\n",
      "the  |  DET  |  determiner  |  DT  |  determiner\n",
      "quarter  |  NOUN  |  noun  |  NN  |  noun, singular or mass\n",
      "ended  |  VERB  |  verb  |  VBN  |  verb, past participle\n",
      "December  |  PROPN  |  proper noun  |  NNP  |  noun, proper singular\n",
      "31  |  NUM  |  numeral  |  CD  |  cardinal number\n",
      ",  |  PUNCT  |  punctuation  |  ,  |  punctuation mark, comma\n",
      "2021  |  NUM  |  numeral  |  CD  |  cardinal number\n",
      ",  |  PUNCT  |  punctuation  |  ,  |  punctuation mark, comma\n",
      "as  |  SCONJ  |  subordinating conjunction  |  IN  |  conjunction, subordinating or preposition\n",
      "compared  |  VERB  |  verb  |  VBN  |  verb, past participle\n",
      "to  |  ADP  |  adposition  |  IN  |  conjunction, subordinating or preposition\n",
      "the  |  DET  |  determiner  |  DT  |  determiner\n",
      "corresponding  |  ADJ  |  adjective  |  JJ  |  adjective (English), other noun-modifier (Chinese)\n",
      "period  |  NOUN  |  noun  |  NN  |  noun, singular or mass\n",
      "of  |  ADP  |  adposition  |  IN  |  conjunction, subordinating or preposition\n",
      "last  |  ADJ  |  adjective  |  JJ  |  adjective (English), other noun-modifier (Chinese)\n",
      "fiscal  |  ADJ  |  adjective  |  JJ  |  adjective (English), other noun-modifier (Chinese)\n",
      "year  |  NOUN  |  noun  |  NN  |  noun, singular or mass\n",
      ":  |  PUNCT  |  punctuation  |  :  |  punctuation mark, colon or ellipsis\n",
      "\n",
      "\n",
      "  |  SPACE  |  space  |  _SP  |  whitespace\n",
      "·  |  PUNCT  |  punctuation  |  NFP  |  superfluous punctuation\n",
      "          |  SPACE  |  space  |  _SP  |  whitespace\n",
      "Revenue  |  PROPN  |  proper noun  |  NNP  |  noun, proper singular\n",
      "was  |  AUX  |  auxiliary  |  VBD  |  verb, past tense\n",
      "$  |  SYM  |  symbol  |  $  |  symbol, currency\n",
      "51.7  |  NUM  |  numeral  |  CD  |  cardinal number\n",
      "billion  |  NUM  |  numeral  |  CD  |  cardinal number\n",
      "and  |  CCONJ  |  coordinating conjunction  |  CC  |  conjunction, coordinating\n",
      "increased  |  VERB  |  verb  |  VBD  |  verb, past tense\n",
      "20  |  NUM  |  numeral  |  CD  |  cardinal number\n",
      "%  |  NOUN  |  noun  |  NN  |  noun, singular or mass\n",
      "\n",
      "  |  SPACE  |  space  |  _SP  |  whitespace\n",
      "·  |  PUNCT  |  punctuation  |  ,  |  punctuation mark, comma\n",
      "          |  SPACE  |  space  |  _SP  |  whitespace\n",
      "Operating  |  VERB  |  verb  |  VBG  |  verb, gerund or present participle\n",
      "income  |  NOUN  |  noun  |  NN  |  noun, singular or mass\n",
      "was  |  AUX  |  auxiliary  |  VBD  |  verb, past tense\n",
      "$  |  SYM  |  symbol  |  $  |  symbol, currency\n",
      "22.2  |  NUM  |  numeral  |  CD  |  cardinal number\n",
      "billion  |  NUM  |  numeral  |  CD  |  cardinal number\n",
      "and  |  CCONJ  |  coordinating conjunction  |  CC  |  conjunction, coordinating\n",
      "increased  |  VERB  |  verb  |  VBD  |  verb, past tense\n",
      "24  |  NUM  |  numeral  |  CD  |  cardinal number\n",
      "%  |  NOUN  |  noun  |  NN  |  noun, singular or mass\n",
      "\n",
      "  |  SPACE  |  space  |  _SP  |  whitespace\n",
      "·  |  PUNCT  |  punctuation  |  NFP  |  superfluous punctuation\n",
      "          |  SPACE  |  space  |  _SP  |  whitespace\n",
      "Net  |  ADJ  |  adjective  |  JJ  |  adjective (English), other noun-modifier (Chinese)\n",
      "income  |  NOUN  |  noun  |  NN  |  noun, singular or mass\n",
      "was  |  AUX  |  auxiliary  |  VBD  |  verb, past tense\n",
      "$  |  SYM  |  symbol  |  $  |  symbol, currency\n",
      "18.8  |  NUM  |  numeral  |  CD  |  cardinal number\n",
      "billion  |  NUM  |  numeral  |  CD  |  cardinal number\n",
      "and  |  CCONJ  |  coordinating conjunction  |  CC  |  conjunction, coordinating\n",
      "increased  |  VERB  |  verb  |  VBD  |  verb, past tense\n",
      "21  |  NUM  |  numeral  |  CD  |  cardinal number\n",
      "%  |  NOUN  |  noun  |  NN  |  noun, singular or mass\n",
      "\n",
      "  |  SPACE  |  space  |  _SP  |  whitespace\n",
      "·  |  PUNCT  |  punctuation  |  NFP  |  superfluous punctuation\n",
      "          |  SPACE  |  space  |  _SP  |  whitespace\n",
      "Diluted  |  ADJ  |  adjective  |  JJ  |  adjective (English), other noun-modifier (Chinese)\n",
      "earnings  |  NOUN  |  noun  |  NNS  |  noun, plural\n",
      "per  |  ADP  |  adposition  |  IN  |  conjunction, subordinating or preposition\n",
      "share  |  NOUN  |  noun  |  NN  |  noun, singular or mass\n",
      "was  |  AUX  |  auxiliary  |  VBD  |  verb, past tense\n",
      "$  |  SYM  |  symbol  |  $  |  symbol, currency\n",
      "2.48  |  NUM  |  numeral  |  CD  |  cardinal number\n",
      "and  |  CCONJ  |  coordinating conjunction  |  CC  |  conjunction, coordinating\n",
      "increased  |  VERB  |  verb  |  VBD  |  verb, past tense\n",
      "22  |  NUM  |  numeral  |  CD  |  cardinal number\n",
      "%  |  NOUN  |  noun  |  NN  |  noun, singular or mass\n",
      "\n",
      "  |  SPACE  |  space  |  _SP  |  whitespace\n",
      "“  |  PUNCT  |  punctuation  |  ``  |  opening quotation mark\n",
      "Digital  |  PROPN  |  proper noun  |  NNP  |  noun, proper singular\n",
      "technology  |  NOUN  |  noun  |  NN  |  noun, singular or mass\n",
      "is  |  AUX  |  auxiliary  |  VBZ  |  verb, 3rd person singular present\n",
      "the  |  DET  |  determiner  |  DT  |  determiner\n",
      "most  |  ADV  |  adverb  |  RBS  |  adverb, superlative\n",
      "malleable  |  ADJ  |  adjective  |  JJ  |  adjective (English), other noun-modifier (Chinese)\n",
      "resource  |  NOUN  |  noun  |  NN  |  noun, singular or mass\n",
      "at  |  ADP  |  adposition  |  IN  |  conjunction, subordinating or preposition\n",
      "the  |  DET  |  determiner  |  DT  |  determiner\n",
      "world  |  NOUN  |  noun  |  NN  |  noun, singular or mass\n",
      "’s  |  PART  |  particle  |  POS  |  possessive ending\n",
      "disposal  |  NOUN  |  noun  |  NN  |  noun, singular or mass\n",
      "to  |  PART  |  particle  |  TO  |  infinitival \"to\"\n",
      "overcome  |  VERB  |  verb  |  VB  |  verb, base form\n",
      "constraints  |  NOUN  |  noun  |  NNS  |  noun, plural\n",
      "and  |  CCONJ  |  coordinating conjunction  |  CC  |  conjunction, coordinating\n",
      "reimagine  |  VERB  |  verb  |  VB  |  verb, base form\n",
      "everyday  |  ADJ  |  adjective  |  JJ  |  adjective (English), other noun-modifier (Chinese)\n",
      "work  |  NOUN  |  noun  |  NN  |  noun, singular or mass\n",
      "and  |  CCONJ  |  coordinating conjunction  |  CC  |  conjunction, coordinating\n",
      "life  |  NOUN  |  noun  |  NN  |  noun, singular or mass\n",
      ",  |  PUNCT  |  punctuation  |  ,  |  punctuation mark, comma\n",
      "”  |  PUNCT  |  punctuation  |  ''  |  closing quotation mark\n",
      "said  |  VERB  |  verb  |  VBD  |  verb, past tense\n",
      "Satya  |  PROPN  |  proper noun  |  NNP  |  noun, proper singular\n",
      "Nadella  |  PROPN  |  proper noun  |  NNP  |  noun, proper singular\n",
      ",  |  PUNCT  |  punctuation  |  ,  |  punctuation mark, comma\n",
      "chairman  |  NOUN  |  noun  |  NN  |  noun, singular or mass\n",
      "and  |  CCONJ  |  coordinating conjunction  |  CC  |  conjunction, coordinating\n",
      "chief  |  ADJ  |  adjective  |  JJ  |  adjective (English), other noun-modifier (Chinese)\n",
      "executive  |  ADJ  |  adjective  |  JJ  |  adjective (English), other noun-modifier (Chinese)\n",
      "officer  |  NOUN  |  noun  |  NN  |  noun, singular or mass\n",
      "of  |  ADP  |  adposition  |  IN  |  conjunction, subordinating or preposition\n",
      "Microsoft  |  PROPN  |  proper noun  |  NNP  |  noun, proper singular\n",
      ".  |  PUNCT  |  punctuation  |  .  |  punctuation mark, sentence closer\n",
      "“  |  PUNCT  |  punctuation  |  ``  |  opening quotation mark\n",
      "As  |  ADV  |  adverb  |  RB  |  adverb\n",
      "tech  |  NOUN  |  noun  |  NN  |  noun, singular or mass\n",
      "as  |  ADP  |  adposition  |  IN  |  conjunction, subordinating or preposition\n",
      "a  |  DET  |  determiner  |  DT  |  determiner\n",
      "percentage  |  NOUN  |  noun  |  NN  |  noun, singular or mass\n",
      "of  |  ADP  |  adposition  |  IN  |  conjunction, subordinating or preposition\n",
      "global  |  ADJ  |  adjective  |  JJ  |  adjective (English), other noun-modifier (Chinese)\n",
      "GDP  |  PROPN  |  proper noun  |  NNP  |  noun, proper singular\n",
      "continues  |  VERB  |  verb  |  VBZ  |  verb, 3rd person singular present\n",
      "to  |  PART  |  particle  |  TO  |  infinitival \"to\"\n",
      "increase  |  VERB  |  verb  |  VB  |  verb, base form\n",
      ",  |  PUNCT  |  punctuation  |  ,  |  punctuation mark, comma\n",
      "we  |  PRON  |  pronoun  |  PRP  |  pronoun, personal\n",
      "are  |  AUX  |  auxiliary  |  VBP  |  verb, non-3rd person singular present\n",
      "innovating  |  VERB  |  verb  |  VBG  |  verb, gerund or present participle\n",
      "and  |  CCONJ  |  coordinating conjunction  |  CC  |  conjunction, coordinating\n",
      "investing  |  VERB  |  verb  |  VBG  |  verb, gerund or present participle\n",
      "across  |  ADP  |  adposition  |  IN  |  conjunction, subordinating or preposition\n",
      "diverse  |  ADJ  |  adjective  |  JJ  |  adjective (English), other noun-modifier (Chinese)\n",
      "and  |  CCONJ  |  coordinating conjunction  |  CC  |  conjunction, coordinating\n",
      "growing  |  VERB  |  verb  |  VBG  |  verb, gerund or present participle\n",
      "markets  |  NOUN  |  noun  |  NNS  |  noun, plural\n",
      ",  |  PUNCT  |  punctuation  |  ,  |  punctuation mark, comma\n",
      "with  |  ADP  |  adposition  |  IN  |  conjunction, subordinating or preposition\n",
      "a  |  DET  |  determiner  |  DT  |  determiner\n",
      "common  |  ADJ  |  adjective  |  JJ  |  adjective (English), other noun-modifier (Chinese)\n",
      "underlying  |  ADJ  |  adjective  |  JJ  |  adjective (English), other noun-modifier (Chinese)\n",
      "technology  |  NOUN  |  noun  |  NN  |  noun, singular or mass\n",
      "stack  |  NOUN  |  noun  |  NN  |  noun, singular or mass\n",
      "and  |  CCONJ  |  coordinating conjunction  |  CC  |  conjunction, coordinating\n",
      "an  |  DET  |  determiner  |  DT  |  determiner\n",
      "operating  |  NOUN  |  noun  |  NN  |  noun, singular or mass\n",
      "model  |  NOUN  |  noun  |  NN  |  noun, singular or mass\n",
      "that  |  PRON  |  pronoun  |  WDT  |  wh-determiner\n",
      "reinforces  |  VERB  |  verb  |  VBZ  |  verb, 3rd person singular present\n",
      "a  |  DET  |  determiner  |  DT  |  determiner\n",
      "common  |  ADJ  |  adjective  |  JJ  |  adjective (English), other noun-modifier (Chinese)\n",
      "strategy  |  NOUN  |  noun  |  NN  |  noun, singular or mass\n",
      ",  |  PUNCT  |  punctuation  |  ,  |  punctuation mark, comma\n",
      "culture  |  NOUN  |  noun  |  NN  |  noun, singular or mass\n",
      ",  |  PUNCT  |  punctuation  |  ,  |  punctuation mark, comma\n",
      "and  |  CCONJ  |  coordinating conjunction  |  CC  |  conjunction, coordinating\n",
      "sense  |  NOUN  |  noun  |  NN  |  noun, singular or mass\n",
      "of  |  ADP  |  adposition  |  IN  |  conjunction, subordinating or preposition\n",
      "purpose  |  NOUN  |  noun  |  NN  |  noun, singular or mass\n",
      ".  |  PUNCT  |  punctuation  |  .  |  punctuation mark, sentence closer\n",
      "”  |  PUNCT  |  punctuation  |  ''  |  closing quotation mark\n",
      "\n",
      "  |  SPACE  |  space  |  _SP  |  whitespace\n",
      "“  |  PUNCT  |  punctuation  |  ``  |  opening quotation mark\n",
      "Solid  |  ADJ  |  adjective  |  JJ  |  adjective (English), other noun-modifier (Chinese)\n",
      "commercial  |  ADJ  |  adjective  |  JJ  |  adjective (English), other noun-modifier (Chinese)\n",
      "execution  |  NOUN  |  noun  |  NN  |  noun, singular or mass\n",
      ",  |  PUNCT  |  punctuation  |  ,  |  punctuation mark, comma\n",
      "represented  |  VERB  |  verb  |  VBN  |  verb, past participle\n",
      "by  |  ADP  |  adposition  |  IN  |  conjunction, subordinating or preposition\n",
      "strong  |  ADJ  |  adjective  |  JJ  |  adjective (English), other noun-modifier (Chinese)\n",
      "bookings  |  NOUN  |  noun  |  NNS  |  noun, plural\n",
      "growth  |  NOUN  |  noun  |  NN  |  noun, singular or mass\n",
      "driven  |  VERB  |  verb  |  VBN  |  verb, past participle\n",
      "by  |  ADP  |  adposition  |  IN  |  conjunction, subordinating or preposition\n",
      "long  |  ADJ  |  adjective  |  JJ  |  adjective (English), other noun-modifier (Chinese)\n",
      "-  |  PUNCT  |  punctuation  |  HYPH  |  punctuation mark, hyphen\n",
      "term  |  NOUN  |  noun  |  NN  |  noun, singular or mass\n",
      "Azure  |  PROPN  |  proper noun  |  NNP  |  noun, proper singular\n",
      "commitments  |  NOUN  |  noun  |  NNS  |  noun, plural\n",
      ",  |  PUNCT  |  punctuation  |  ,  |  punctuation mark, comma\n",
      "increased  |  VERB  |  verb  |  VBD  |  verb, past tense\n",
      "Microsoft  |  PROPN  |  proper noun  |  NNP  |  noun, proper singular\n",
      "Cloud  |  PROPN  |  proper noun  |  NNP  |  noun, proper singular\n",
      "revenue  |  NOUN  |  noun  |  NN  |  noun, singular or mass\n",
      "to  |  ADP  |  adposition  |  IN  |  conjunction, subordinating or preposition\n",
      "$  |  SYM  |  symbol  |  $  |  symbol, currency\n",
      "22.1  |  NUM  |  numeral  |  CD  |  cardinal number\n",
      "billion  |  NUM  |  numeral  |  CD  |  cardinal number\n",
      ",  |  PUNCT  |  punctuation  |  ,  |  punctuation mark, comma\n",
      "up  |  ADV  |  adverb  |  RB  |  adverb\n",
      "32  |  NUM  |  numeral  |  CD  |  cardinal number\n",
      "%  |  NOUN  |  noun  |  NN  |  noun, singular or mass\n",
      "year  |  NOUN  |  noun  |  NN  |  noun, singular or mass\n",
      "over  |  ADP  |  adposition  |  IN  |  conjunction, subordinating or preposition\n",
      "year  |  NOUN  |  noun  |  NN  |  noun, singular or mass\n",
      "”  |  PUNCT  |  punctuation  |  ''  |  closing quotation mark\n",
      "said  |  VERB  |  verb  |  VBD  |  verb, past tense\n",
      "Amy  |  PROPN  |  proper noun  |  NNP  |  noun, proper singular\n",
      "Hood  |  PROPN  |  proper noun  |  NNP  |  noun, proper singular\n",
      ",  |  PUNCT  |  punctuation  |  ,  |  punctuation mark, comma\n",
      "executive  |  ADJ  |  adjective  |  JJ  |  adjective (English), other noun-modifier (Chinese)\n",
      "vice  |  NOUN  |  noun  |  NN  |  noun, singular or mass\n",
      "president  |  NOUN  |  noun  |  NN  |  noun, singular or mass\n",
      "and  |  CCONJ  |  coordinating conjunction  |  CC  |  conjunction, coordinating\n",
      "chief  |  ADJ  |  adjective  |  JJ  |  adjective (English), other noun-modifier (Chinese)\n",
      "financial  |  ADJ  |  adjective  |  JJ  |  adjective (English), other noun-modifier (Chinese)\n",
      "officer  |  NOUN  |  noun  |  NN  |  noun, singular or mass\n",
      "of  |  ADP  |  adposition  |  IN  |  conjunction, subordinating or preposition\n",
      "Microsoft  |  PROPN  |  proper noun  |  NNP  |  noun, proper singular\n",
      ".  |  PUNCT  |  punctuation  |  .  |  punctuation mark, sentence closer\n"
     ]
    }
   ],
   "source": [
    "earnings_text=nlp(\"\"\"Microsoft Corp. today announced the following results for the quarter ended December 31, 2021, as compared to the corresponding period of last fiscal year:\n",
    "\n",
    "·         Revenue was $51.7 billion and increased 20%\n",
    "·         Operating income was $22.2 billion and increased 24%\n",
    "·         Net income was $18.8 billion and increased 21%\n",
    "·         Diluted earnings per share was $2.48 and increased 22%\n",
    "“Digital technology is the most malleable resource at the world’s disposal to overcome constraints and reimagine everyday work and life,” said Satya Nadella, chairman and chief executive officer of Microsoft. “As tech as a percentage of global GDP continues to increase, we are innovating and investing across diverse and growing markets, with a common underlying technology stack and an operating model that reinforces a common strategy, culture, and sense of purpose.”\n",
    "“Solid commercial execution, represented by strong bookings growth driven by long-term Azure commitments, increased Microsoft Cloud revenue to $22.1 billion, up 32% year over year” said Amy Hood, executive vice president and chief financial officer of Microsoft.\"\"\")\n",
    "# first let us get the  POS of earnings_text \n",
    "for token in earnings_text:\n",
    "    print(token, \" | \", token.pos_, \" | \", spacy.explain(token.pos_), \" | \", token.tag_, \" | \", spacy.explain(token.tag_))\n",
    "     "
   ]
  },
  {
   "cell_type": "code",
   "execution_count": 42,
   "metadata": {},
   "outputs": [
    {
     "data": {
      "text/plain": [
       "[Microsoft,\n",
       " Corp.,\n",
       " today,\n",
       " announced,\n",
       " the,\n",
       " following,\n",
       " results,\n",
       " for,\n",
       " the,\n",
       " quarter,\n",
       " ended,\n",
       " December,\n",
       " 31,\n",
       " 2021,\n",
       " as]"
      ]
     },
     "execution_count": 42,
     "metadata": {},
     "output_type": "execute_result"
    }
   ],
   "source": [
    "# Removing SPACE, PUNCT, and X \n",
    "ee = nlp(earnings_text)\n",
    "result = []\n",
    "for token in ee:\n",
    "    if token.pos_ not in [\"SPACE\", \"PUNCT\", \"X\"]:\n",
    "        result.append(token)\n",
    "result[:15]"
   ]
  },
  {
   "cell_type": "markdown",
   "metadata": {},
   "source": [
    "<h3>Number of POS present in a text</h3>"
   ]
  },
  {
   "cell_type": "code",
   "execution_count": 44,
   "metadata": {},
   "outputs": [
    {
     "data": {
      "text/plain": [
       "{96: 15,\n",
       " 92: 45,\n",
       " 100: 22,\n",
       " 90: 9,\n",
       " 85: 16,\n",
       " 93: 16,\n",
       " 97: 27,\n",
       " 98: 1,\n",
       " 84: 21,\n",
       " 103: 10,\n",
       " 87: 6,\n",
       " 99: 5,\n",
       " 89: 12,\n",
       " 86: 3,\n",
       " 94: 3,\n",
       " 95: 2}"
      ]
     },
     "execution_count": 44,
     "metadata": {},
     "output_type": "execute_result"
    }
   ],
   "source": [
    "num_of_pos = ee.count_by(spacy.attrs.POS)\n",
    "num_of_pos"
   ]
  },
  {
   "cell_type": "code",
   "execution_count": 50,
   "metadata": {},
   "outputs": [
    {
     "name": "stdout",
     "output_type": "stream",
     "text": [
      "PROPN  |  proper noun  |  15\n",
      "NOUN  |  noun  |  45\n",
      "VERB  |  verb  |  22\n",
      "DET  |  determiner  |  9\n",
      "ADP  |  adposition  |  16\n",
      "NUM  |  numeral  |  16\n",
      "PUNCT  |  punctuation  |  27\n",
      "SCONJ  |  subordinating conjunction  |  1\n",
      "ADJ  |  adjective  |  21\n",
      "SPACE  |  space  |  10\n",
      "AUX  |  auxiliary  |  6\n",
      "SYM  |  symbol  |  5\n",
      "CCONJ  |  coordinating conjunction  |  12\n",
      "ADV  |  adverb  |  3\n",
      "PART  |  particle  |  3\n",
      "PRON  |  pronoun  |  2\n"
     ]
    }
   ],
   "source": [
    "for pos,occurence in num_of_pos.items():\n",
    "    print(ee.vocab[pos].text,\" | \",spacy.explain(ee.vocab[pos].text), \" | \",occurence)"
   ]
  },
  {
   "cell_type": "markdown",
   "metadata": {},
   "source": [
    "1) You are parsing a news story from cnbc.com. News story is stores in [news_story.txt].You need to,\n",
    "   1) Extract all NOUN tokens from this story. You will have to read the file in python first to collect all the text and then extract NOUNs in a python list\n",
    "   2) Extract all numbers (NUM POS type) in a python list\n",
    "   3) Print a count of all POS tags in this story"
   ]
  },
  {
   "cell_type": "code",
   "execution_count": 53,
   "metadata": {},
   "outputs": [],
   "source": [
    "with open(\"./nlp-tutorials-main/7_pos/news_story.txt\",\"r\") as ff:\n",
    "    story = nlp(ff.read())"
   ]
  },
  {
   "cell_type": "code",
   "execution_count": 56,
   "metadata": {},
   "outputs": [
    {
     "data": {
      "text/plain": [
       "[Inflation,\n",
       " climb,\n",
       " consumers,\n",
       " brink,\n",
       " expansion,\n",
       " consumer,\n",
       " price,\n",
       " index,\n",
       " measure,\n",
       " prices]"
      ]
     },
     "execution_count": 56,
     "metadata": {},
     "output_type": "execute_result"
    }
   ],
   "source": [
    "# Extract all NOUN from the story\n",
    "nouns=[]\n",
    "for noun in story:\n",
    "    if noun.pos_ in [\"NOUN\"]:\n",
    "        nouns.append(noun)\n",
    "nouns[:10]"
   ]
  },
  {
   "cell_type": "code",
   "execution_count": 57,
   "metadata": {},
   "outputs": [
    {
     "data": {
      "text/plain": [
       "[8.3,\n",
       " 8.1,\n",
       " 1982,\n",
       " 6.2,\n",
       " 6,\n",
       " â€,\n",
       " 0.3,\n",
       " 0.2,\n",
       " 0.6,\n",
       " 0.4,\n",
       " 0.1,\n",
       " 0.3,\n",
       " 2.6,\n",
       " 5.5,\n",
       " 2021,\n",
       " 1984,\n",
       " one,\n",
       " two,\n",
       " two,\n",
       " 2]"
      ]
     },
     "execution_count": 57,
     "metadata": {},
     "output_type": "execute_result"
    }
   ],
   "source": [
    "# Extract all numbers to a list\n",
    "numbers= []\n",
    "for nums in story:\n",
    "    if nums.pos_ in [\"NUM\"]:\n",
    "        numbers.append(nums)\n",
    "\n",
    "numbers[:20]"
   ]
  },
  {
   "cell_type": "code",
   "execution_count": 59,
   "metadata": {},
   "outputs": [
    {
     "data": {
      "text/plain": [
       "{92: 96,\n",
       " 100: 27,\n",
       " 86: 15,\n",
       " 85: 39,\n",
       " 96: 18,\n",
       " 97: 32,\n",
       " 90: 34,\n",
       " 95: 4,\n",
       " 87: 13,\n",
       " 89: 10,\n",
       " 84: 23,\n",
       " 103: 7,\n",
       " 93: 20,\n",
       " 94: 4,\n",
       " 98: 8,\n",
       " 99: 1,\n",
       " 101: 1}"
      ]
     },
     "execution_count": 59,
     "metadata": {},
     "output_type": "execute_result"
    }
   ],
   "source": [
    "# Print a count of all pos tags\n",
    "\n",
    "count = story.count_by(spacy.attrs.POS)\n",
    "count\n"
   ]
  },
  {
   "cell_type": "code",
   "execution_count": 69,
   "metadata": {},
   "outputs": [
    {
     "name": "stdout",
     "output_type": "stream",
     "text": [
      "NOUN  |  noun  |  96\n",
      "VERB  |  verb  |  27\n",
      "ADV  |  adverb  |  15\n",
      "ADP  |  adposition  |  39\n",
      "PROPN  |  proper noun  |  18\n",
      "PUNCT  |  punctuation  |  32\n",
      "DET  |  determiner  |  34\n",
      "PRON  |  pronoun  |  4\n",
      "AUX  |  auxiliary  |  13\n",
      "CCONJ  |  coordinating conjunction  |  10\n",
      "ADJ  |  adjective  |  23\n",
      "SPACE  |  space  |  7\n",
      "NUM  |  numeral  |  20\n",
      "PART  |  particle  |  4\n",
      "SCONJ  |  subordinating conjunction  |  8\n",
      "SYM  |  symbol  |  1\n",
      "X  |  other  |  1\n"
     ]
    }
   ],
   "source": [
    "for pos, times in count.items():\n",
    "     print(story.vocab[pos].text,\" | \",spacy.explain(story.vocab[pos].text), \" | \",times)"
   ]
  }
 ],
 "metadata": {
  "kernelspec": {
   "display_name": "Python 3.10.2 64-bit",
   "language": "python",
   "name": "python3"
  },
  "language_info": {
   "codemirror_mode": {
    "name": "ipython",
    "version": 3
   },
   "file_extension": ".py",
   "mimetype": "text/x-python",
   "name": "python",
   "nbconvert_exporter": "python",
   "pygments_lexer": "ipython3",
   "version": "3.10.2"
  },
  "orig_nbformat": 4,
  "vscode": {
   "interpreter": {
    "hash": "2a20c2438da76d01abbbd80122561b502df63077b005b417cc5df835b7dbcba8"
   }
  }
 },
 "nbformat": 4,
 "nbformat_minor": 2
}
